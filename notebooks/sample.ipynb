{
 "cells": [
  {
   "cell_type": "code",
   "execution_count": 1,
   "metadata": {},
   "outputs": [
    {
     "name": "stdout",
     "output_type": "stream",
     "text": [
      "c:\\Users\\anant\\Documents\\dev\\TorcHood\n"
     ]
    }
   ],
   "source": [
    "%cd .."
   ]
  },
  {
   "cell_type": "code",
   "execution_count": 2,
   "metadata": {},
   "outputs": [],
   "source": [
    "### install torchood package\n",
    "# ! python setup.py sdist\n",
    "# ! pip install ."
   ]
  },
  {
   "cell_type": "code",
   "execution_count": 3,
   "metadata": {},
   "outputs": [],
   "source": [
    "import torch\n",
    "from torchood.models.custom_resnet import ResNet18"
   ]
  },
  {
   "cell_type": "code",
   "execution_count": 4,
   "metadata": {},
   "outputs": [
    {
     "name": "stdout",
     "output_type": "stream",
     "text": [
      "cpu\n"
     ]
    }
   ],
   "source": [
    "use_cuda = torch.cuda.is_available()\n",
    "device = torch.device(\"cuda\" if use_cuda else \"cpu\")\n",
    "print(device)\n",
    "model = ResNet18().to(device)"
   ]
  },
  {
   "cell_type": "code",
   "execution_count": 5,
   "metadata": {},
   "outputs": [
    {
     "name": "stdout",
     "output_type": "stream",
     "text": [
      "==========================================================================================\n",
      "Layer (type:depth-idx)                   Output Shape              Param #\n",
      "==========================================================================================\n",
      "ResNet                                   [1, 10]                   --\n",
      "├─Conv2d: 1-1                            [1, 64, 32, 32]           1,728\n",
      "├─BatchNorm2d: 1-2                       [1, 64, 32, 32]           128\n",
      "├─Sequential: 1-3                        [1, 64, 32, 32]           --\n",
      "│    └─BasicBlock: 2-1                   [1, 64, 32, 32]           --\n",
      "│    │    └─Conv2d: 3-1                  [1, 64, 32, 32]           36,864\n",
      "│    │    └─BatchNorm2d: 3-2             [1, 64, 32, 32]           128\n",
      "│    │    └─Conv2d: 3-3                  [1, 64, 32, 32]           36,864\n",
      "│    │    └─BatchNorm2d: 3-4             [1, 64, 32, 32]           128\n",
      "│    │    └─Sequential: 3-5              [1, 64, 32, 32]           --\n",
      "│    └─BasicBlock: 2-2                   [1, 64, 32, 32]           --\n",
      "│    │    └─Conv2d: 3-6                  [1, 64, 32, 32]           36,864\n",
      "│    │    └─BatchNorm2d: 3-7             [1, 64, 32, 32]           128\n",
      "│    │    └─Conv2d: 3-8                  [1, 64, 32, 32]           36,864\n",
      "│    │    └─BatchNorm2d: 3-9             [1, 64, 32, 32]           128\n",
      "│    │    └─Sequential: 3-10             [1, 64, 32, 32]           --\n",
      "├─Sequential: 1-4                        [1, 128, 16, 16]          --\n",
      "│    └─BasicBlock: 2-3                   [1, 128, 16, 16]          --\n",
      "│    │    └─Conv2d: 3-11                 [1, 128, 16, 16]          73,728\n",
      "│    │    └─BatchNorm2d: 3-12            [1, 128, 16, 16]          256\n",
      "│    │    └─Conv2d: 3-13                 [1, 128, 16, 16]          147,456\n",
      "│    │    └─BatchNorm2d: 3-14            [1, 128, 16, 16]          256\n",
      "│    │    └─Sequential: 3-15             [1, 128, 16, 16]          8,448\n",
      "│    └─BasicBlock: 2-4                   [1, 128, 16, 16]          --\n",
      "│    │    └─Conv2d: 3-16                 [1, 128, 16, 16]          147,456\n",
      "│    │    └─BatchNorm2d: 3-17            [1, 128, 16, 16]          256\n",
      "│    │    └─Conv2d: 3-18                 [1, 128, 16, 16]          147,456\n",
      "│    │    └─BatchNorm2d: 3-19            [1, 128, 16, 16]          256\n",
      "│    │    └─Sequential: 3-20             [1, 128, 16, 16]          --\n",
      "├─Sequential: 1-5                        [1, 256, 8, 8]            --\n",
      "│    └─BasicBlock: 2-5                   [1, 256, 8, 8]            --\n",
      "│    │    └─Conv2d: 3-21                 [1, 256, 8, 8]            294,912\n",
      "│    │    └─BatchNorm2d: 3-22            [1, 256, 8, 8]            512\n",
      "│    │    └─Conv2d: 3-23                 [1, 256, 8, 8]            589,824\n",
      "│    │    └─BatchNorm2d: 3-24            [1, 256, 8, 8]            512\n",
      "│    │    └─Sequential: 3-25             [1, 256, 8, 8]            33,280\n",
      "│    └─BasicBlock: 2-6                   [1, 256, 8, 8]            --\n",
      "│    │    └─Conv2d: 3-26                 [1, 256, 8, 8]            589,824\n",
      "│    │    └─BatchNorm2d: 3-27            [1, 256, 8, 8]            512\n",
      "│    │    └─Conv2d: 3-28                 [1, 256, 8, 8]            589,824\n",
      "│    │    └─BatchNorm2d: 3-29            [1, 256, 8, 8]            512\n",
      "│    │    └─Sequential: 3-30             [1, 256, 8, 8]            --\n",
      "├─Sequential: 1-6                        [1, 512, 8, 8]            --\n",
      "│    └─BasicBlock: 2-7                   [1, 512, 8, 8]            --\n",
      "│    │    └─Conv2d: 3-31                 [1, 512, 8, 8]            1,179,648\n",
      "│    │    └─BatchNorm2d: 3-32            [1, 512, 8, 8]            1,024\n",
      "│    │    └─Conv2d: 3-33                 [1, 512, 8, 8]            2,359,296\n",
      "│    │    └─BatchNorm2d: 3-34            [1, 512, 8, 8]            1,024\n",
      "│    │    └─Sequential: 3-35             [1, 512, 8, 8]            132,096\n",
      "│    └─BasicBlock: 2-8                   [1, 512, 8, 8]            --\n",
      "│    │    └─Conv2d: 3-36                 [1, 512, 8, 8]            2,359,296\n",
      "│    │    └─BatchNorm2d: 3-37            [1, 512, 8, 8]            1,024\n",
      "│    │    └─Conv2d: 3-38                 [1, 512, 8, 8]            2,359,296\n",
      "│    │    └─BatchNorm2d: 3-39            [1, 512, 8, 8]            1,024\n",
      "│    │    └─Sequential: 3-40             [1, 512, 8, 8]            --\n",
      "├─Linear: 1-7                            [1, 10]                   5,130\n",
      "==========================================================================================\n",
      "Total params: 11,173,962\n",
      "Trainable params: 11,173,962\n",
      "Non-trainable params: 0\n",
      "Total mult-adds (M): 958.09\n",
      "==========================================================================================\n",
      "Input size (MB): 0.01\n",
      "Forward/backward pass size (MB): 11.80\n",
      "Params size (MB): 44.70\n",
      "Estimated Total Size (MB): 56.50\n",
      "==========================================================================================\n"
     ]
    }
   ],
   "source": [
    "model.summarize(device, (1, 3, 32, 32))"
   ]
  },
  {
   "cell_type": "code",
   "execution_count": null,
   "metadata": {},
   "outputs": [],
   "source": []
  }
 ],
 "metadata": {
  "kernelspec": {
   "display_name": "base",
   "language": "python",
   "name": "python3"
  },
  "language_info": {
   "codemirror_mode": {
    "name": "ipython",
    "version": 3
   },
   "file_extension": ".py",
   "mimetype": "text/x-python",
   "name": "python",
   "nbconvert_exporter": "python",
   "pygments_lexer": "ipython3",
   "version": "3.10.10"
  },
  "orig_nbformat": 4
 },
 "nbformat": 4,
 "nbformat_minor": 2
}
